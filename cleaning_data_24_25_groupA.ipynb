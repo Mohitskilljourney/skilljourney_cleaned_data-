{
  "nbformat": 4,
  "nbformat_minor": 0,
  "metadata": {
    "colab": {
      "provenance": []
    },
    "kernelspec": {
      "name": "python3",
      "display_name": "Python 3"
    },
    "language_info": {
      "name": "python"
    }
  },
  "cells": [
    {
      "cell_type": "code",
      "source": [
        "!pip install camelot-py[cv] pandas openpyxl"
      ],
      "metadata": {
        "colab": {
          "base_uri": "https://localhost:8080/"
        },
        "id": "oPPvgHJlTXbs",
        "outputId": "53ac1fa0-a5fc-42f6-afa2-b27034fc630b"
      },
      "execution_count": 1,
      "outputs": [
        {
          "output_type": "stream",
          "name": "stdout",
          "text": [
            "Requirement already satisfied: pandas in /usr/local/lib/python3.12/dist-packages (2.2.2)\n",
            "Requirement already satisfied: openpyxl in /usr/local/lib/python3.12/dist-packages (3.1.5)\n",
            "Collecting camelot-py[cv]\n",
            "  Downloading camelot_py-1.0.9-py3-none-any.whl.metadata (9.8 kB)\n",
            "\u001b[33mWARNING: camelot-py 1.0.9 does not provide the extra 'cv'\u001b[0m\u001b[33m\n",
            "\u001b[0mRequirement already satisfied: click>=8.0.1 in /usr/local/lib/python3.12/dist-packages (from camelot-py[cv]) (8.3.0)\n",
            "Requirement already satisfied: chardet>=5.1.0 in /usr/local/lib/python3.12/dist-packages (from camelot-py[cv]) (5.2.0)\n",
            "Requirement already satisfied: numpy>=1.26.1 in /usr/local/lib/python3.12/dist-packages (from camelot-py[cv]) (2.0.2)\n",
            "Collecting pdfminer-six>=20240706 (from camelot-py[cv])\n",
            "  Downloading pdfminer_six-20250506-py3-none-any.whl.metadata (4.2 kB)\n",
            "Collecting pypdf<6.0,>=4.0 (from camelot-py[cv])\n",
            "  Downloading pypdf-5.9.0-py3-none-any.whl.metadata (7.1 kB)\n",
            "Requirement already satisfied: tabulate>=0.9.0 in /usr/local/lib/python3.12/dist-packages (from camelot-py[cv]) (0.9.0)\n",
            "Requirement already satisfied: opencv-python-headless>=4.7.0.68 in /usr/local/lib/python3.12/dist-packages (from camelot-py[cv]) (4.12.0.88)\n",
            "Collecting pypdfium2>=4 (from camelot-py[cv])\n",
            "  Downloading pypdfium2-4.30.0-py3-none-manylinux_2_17_x86_64.manylinux2014_x86_64.whl.metadata (48 kB)\n",
            "\u001b[2K     \u001b[90m━━━━━━━━━━━━━━━━━━━━━━━━━━━━━━━━━━━━━━━━\u001b[0m \u001b[32m48.5/48.5 kB\u001b[0m \u001b[31m3.3 MB/s\u001b[0m eta \u001b[36m0:00:00\u001b[0m\n",
            "\u001b[?25hRequirement already satisfied: pillow>=10.4.0 in /usr/local/lib/python3.12/dist-packages (from camelot-py[cv]) (11.3.0)\n",
            "Requirement already satisfied: python-dateutil>=2.8.2 in /usr/local/lib/python3.12/dist-packages (from pandas) (2.9.0.post0)\n",
            "Requirement already satisfied: pytz>=2020.1 in /usr/local/lib/python3.12/dist-packages (from pandas) (2025.2)\n",
            "Requirement already satisfied: tzdata>=2022.7 in /usr/local/lib/python3.12/dist-packages (from pandas) (2025.2)\n",
            "Requirement already satisfied: et-xmlfile in /usr/local/lib/python3.12/dist-packages (from openpyxl) (2.0.0)\n",
            "Requirement already satisfied: charset-normalizer>=2.0.0 in /usr/local/lib/python3.12/dist-packages (from pdfminer-six>=20240706->camelot-py[cv]) (3.4.3)\n",
            "Requirement already satisfied: cryptography>=36.0.0 in /usr/local/lib/python3.12/dist-packages (from pdfminer-six>=20240706->camelot-py[cv]) (43.0.3)\n",
            "Requirement already satisfied: six>=1.5 in /usr/local/lib/python3.12/dist-packages (from python-dateutil>=2.8.2->pandas) (1.17.0)\n",
            "Requirement already satisfied: cffi>=1.12 in /usr/local/lib/python3.12/dist-packages (from cryptography>=36.0.0->pdfminer-six>=20240706->camelot-py[cv]) (2.0.0)\n",
            "Requirement already satisfied: pycparser in /usr/local/lib/python3.12/dist-packages (from cffi>=1.12->cryptography>=36.0.0->pdfminer-six>=20240706->camelot-py[cv]) (2.23)\n",
            "Downloading pdfminer_six-20250506-py3-none-any.whl (5.6 MB)\n",
            "\u001b[2K   \u001b[90m━━━━━━━━━━━━━━━━━━━━━━━━━━━━━━━━━━━━━━━━\u001b[0m \u001b[32m5.6/5.6 MB\u001b[0m \u001b[31m61.7 MB/s\u001b[0m eta \u001b[36m0:00:00\u001b[0m\n",
            "\u001b[?25hDownloading pypdf-5.9.0-py3-none-any.whl (313 kB)\n",
            "\u001b[2K   \u001b[90m━━━━━━━━━━━━━━━━━━━━━━━━━━━━━━━━━━━━━━━━\u001b[0m \u001b[32m313.2/313.2 kB\u001b[0m \u001b[31m24.0 MB/s\u001b[0m eta \u001b[36m0:00:00\u001b[0m\n",
            "\u001b[?25hDownloading pypdfium2-4.30.0-py3-none-manylinux_2_17_x86_64.manylinux2014_x86_64.whl (2.8 MB)\n",
            "\u001b[2K   \u001b[90m━━━━━━━━━━━━━━━━━━━━━━━━━━━━━━━━━━━━━━━━\u001b[0m \u001b[32m2.8/2.8 MB\u001b[0m \u001b[31m76.0 MB/s\u001b[0m eta \u001b[36m0:00:00\u001b[0m\n",
            "\u001b[?25hDownloading camelot_py-1.0.9-py3-none-any.whl (66 kB)\n",
            "\u001b[2K   \u001b[90m━━━━━━━━━━━━━━━━━━━━━━━━━━━━━━━━━━━━━━━━\u001b[0m \u001b[32m66.8/66.8 kB\u001b[0m \u001b[31m6.1 MB/s\u001b[0m eta \u001b[36m0:00:00\u001b[0m\n",
            "\u001b[?25hInstalling collected packages: pypdfium2, pypdf, pdfminer-six, camelot-py\n",
            "Successfully installed camelot-py-1.0.9 pdfminer-six-20250506 pypdf-5.9.0 pypdfium2-4.30.0\n"
          ]
        }
      ]
    },
    {
      "cell_type": "code",
      "source": [
        "import pandas as pd\n",
        "\n",
        "# -----------------------------\n",
        "# Step 1: Load the Excel file\n",
        "# -----------------------------\n",
        "file_path = \"/content/2024-2025_SeLLList+R2-Ayush.xlsx\"  # Replace with your file path\n",
        "df = pd.read_excel(file_path)\n",
        "\n",
        "# -----------------------------\n",
        "# Step 2: Inspect and rename columns\n",
        "# -----------------------------\n",
        "print(\"Columns in loaded Excel:\", df.columns.tolist())\n",
        "\n",
        "df.rename(columns={\n",
        "    'NEET Roll No.': 'RollNo',\n",
        "    'CET Form. No.': 'FormNo',\n",
        "    'Name of the Candidate': 'Name',\n",
        "    'Gender': 'Gender',\n",
        "    'Category': 'Category',\n",
        "    'Quota': 'Quota',\n",
        "    'All India Rank': 'AIR',\n",
        "    'College Code': 'CollegeCode',\n",
        "    'College Name': 'CollegeName'\n",
        "}, inplace=True)\n",
        "\n",
        "# -----------------------------\n",
        "# Step 3: Keep only necessary columns\n",
        "# -----------------------------\n",
        "columns_to_keep = ['RollNo', 'FormNo', 'Name', 'Gender', 'Category', 'Quota', 'AIR', 'CollegeCode', 'CollegeName']\n",
        "df = df[columns_to_keep]\n",
        "\n",
        "# -----------------------------\n",
        "# Step 4: Clean Quota column\n",
        "# -----------------------------\n",
        "df['Quota'] = df['Quota'].astype(str).str.strip().str.upper()\n",
        "quota_mapping = {\n",
        "    'OPEN (EMD)': 'OPEN',\n",
        "    'OPEN': 'OPEN',\n",
        "    'SC': 'SC',\n",
        "    'ST': 'ST',\n",
        "    'OBC': 'OBC',\n",
        "    'EWS': 'EWS'\n",
        "}\n",
        "df['Quota'] = df['Quota'].map(lambda x: quota_mapping.get(x, x))\n",
        "\n",
        "# -----------------------------\n",
        "# Step 5: Remove duplicates and missing data\n",
        "# -----------------------------\n",
        "df.drop_duplicates(subset=['RollNo', 'FormNo'], inplace=True)\n",
        "df.dropna(subset=['AIR', 'Quota', 'CollegeCode', 'CollegeName', 'Gender'], inplace=True)\n",
        "\n",
        "# Ensure AIR is numeric\n",
        "df['AIR'] = pd.to_numeric(df['AIR'], errors='coerce')\n",
        "df.dropna(subset=['AIR'], inplace=True)\n",
        "\n",
        "# -----------------------------\n",
        "# Step 6: Sort values\n",
        "# -----------------------------\n",
        "df.sort_values(by=['CollegeCode', 'CollegeName', 'Quota', 'Gender', 'AIR'], inplace=True)\n",
        "\n",
        "# -----------------------------\n",
        "# Step 7: Generate summary\n",
        "# -----------------------------\n",
        "summary = df.groupby(['CollegeCode', 'CollegeName', 'Quota', 'Gender'])['AIR'].agg(['min', 'max']).reset_index()\n",
        "summary.rename(columns={'min': 'Lowest AIR', 'max': 'Highest AIR'}, inplace=True)\n",
        "\n",
        "# -----------------------------\n",
        "# Step 8: Save summary\n",
        "# -----------------------------\n",
        "summary.to_excel(\"Cleaning_2024-2025_SellList-R2-AYUSH.xlsx\", index=False)\n",
        "print(\"✅ AIR summary by college, quota, and gender saved as Cleaning_2024-2025_SellList-R1-AYUSH.xlsx\")"
      ],
      "metadata": {
        "colab": {
          "base_uri": "https://localhost:8080/"
        },
        "id": "J0ZWzl4dplV2",
        "outputId": "45685047-e5b8-408e-ec8d-92128e32b846"
      },
      "execution_count": 5,
      "outputs": [
        {
          "output_type": "stream",
          "name": "stdout",
          "text": [
            "Columns in loaded Excel: ['Sr. No.', 'AIR', 'NEET Roll No.', 'CET Form. No.', 'Name', 'Gender', 'Category', 'Quota', 'College Code', 'College Name']\n",
            "✅ AIR summary by college, quota, and gender saved as Cleaning_2024-2025_SellList-R1-AYUSH.xlsx\n"
          ]
        }
      ]
    },
    {
      "cell_type": "code",
      "source": [],
      "metadata": {
        "id": "jddjceCQ37Be"
      },
      "execution_count": null,
      "outputs": []
    },
    {
      "cell_type": "code",
      "source": [],
      "metadata": {
        "id": "jRcZ-7tcUymc"
      },
      "execution_count": null,
      "outputs": []
    }
  ]
}